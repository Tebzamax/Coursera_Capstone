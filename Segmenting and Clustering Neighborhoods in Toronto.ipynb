{
    "cells": [
        {
            "metadata": {
                "collapsed": true
            },
            "cell_type": "markdown",
            "source": "## Import the required libraries"
        },
        {
            "metadata": {},
            "cell_type": "code",
            "source": "import numpy as np\nimport pandas as pd\nimport matplotlib.pyplot as plt\nimport json, lxml\nfrom geopy.geocoders import Nominatim # convert an address into latitude and longitude values\nimport requests # library to handle requests\nfrom pandas.io.json import json_normalize # tranform JSON file into a pandas dataframe\n# Matplotlib and associated plotting modules\nimport matplotlib.cm as cm\nimport matplotlib.colors as colors\n# import k-means from clustering stage\nfrom sklearn.cluster import KMeans\n# import folium # map rendering library\nfrom bs4 import BeautifulSoup\nimport warnings\nwarnings.filterwarnings('ignore')\ntry:\n    import folium\nexcept:\n    !pip install folium\n    import folium",
            "execution_count": 17,
            "outputs": []
        },
        {
            "metadata": {},
            "cell_type": "markdown",
            "source": "## Maximise column widths"
        },
        {
            "metadata": {},
            "cell_type": "code",
            "source": "pd.set_option('max_colwidth', 800)",
            "execution_count": 18,
            "outputs": []
        },
        {
            "metadata": {},
            "cell_type": "markdown",
            "source": "# PART 1"
        },
        {
            "metadata": {},
            "cell_type": "markdown",
            "source": "## Extracting data from Wikipedia"
        },
        {
            "metadata": {},
            "cell_type": "code",
            "source": "url = 'https://en.wikipedia.org/wiki/List_of_postal_codes_of_Canada:_M'\nsource = requests.get(url).text\nsoup = BeautifulSoup(source)\n\ntable_data = soup.find('div', class_='mw-parser-output')\ntable = table_data.table.tbody\n\ncolumns = ['PostalCode', 'Borough', 'Neighbourhood']\ndata = dict({key:[]*len(columns) for key in columns})\n\nfor row in table.find_all('tr'):\n    for i,column in zip(row.find_all('td'),columns):\n        i = i.text\n        i = i.replace('\\n', '')\n        data[column].append(i)\n\ndf = pd.DataFrame.from_dict(data=data)[columns]\nprint(df.shape)\ndf.head()\n",
            "execution_count": 19,
            "outputs": [
                {
                    "output_type": "stream",
                    "text": "(180, 3)\n",
                    "name": "stdout"
                },
                {
                    "output_type": "execute_result",
                    "execution_count": 19,
                    "data": {
                        "text/plain": "  PostalCode           Borough               Neighbourhood\n0        M1A      Not assigned                            \n1        M2A      Not assigned                            \n2        M3A        North York                   Parkwoods\n3        M4A        North York            Victoria Village\n4        M5A  Downtown Toronto  Regent Park / Harbourfront",
                        "text/html": "<div>\n<style scoped>\n    .dataframe tbody tr th:only-of-type {\n        vertical-align: middle;\n    }\n\n    .dataframe tbody tr th {\n        vertical-align: top;\n    }\n\n    .dataframe thead th {\n        text-align: right;\n    }\n</style>\n<table border=\"1\" class=\"dataframe\">\n  <thead>\n    <tr style=\"text-align: right;\">\n      <th></th>\n      <th>PostalCode</th>\n      <th>Borough</th>\n      <th>Neighbourhood</th>\n    </tr>\n  </thead>\n  <tbody>\n    <tr>\n      <th>0</th>\n      <td>M1A</td>\n      <td>Not assigned</td>\n      <td></td>\n    </tr>\n    <tr>\n      <th>1</th>\n      <td>M2A</td>\n      <td>Not assigned</td>\n      <td></td>\n    </tr>\n    <tr>\n      <th>2</th>\n      <td>M3A</td>\n      <td>North York</td>\n      <td>Parkwoods</td>\n    </tr>\n    <tr>\n      <th>3</th>\n      <td>M4A</td>\n      <td>North York</td>\n      <td>Victoria Village</td>\n    </tr>\n    <tr>\n      <th>4</th>\n      <td>M5A</td>\n      <td>Downtown Toronto</td>\n      <td>Regent Park / Harbourfront</td>\n    </tr>\n  </tbody>\n</table>\n</div>"
                    },
                    "metadata": {}
                }
            ]
        },
        {
            "metadata": {},
            "cell_type": "markdown",
            "source": "## Drop 'not assigned' rows"
        },
        {
            "metadata": {},
            "cell_type": "code",
            "source": "df = df[df['Borough'] != 'Not assigned'].reset_index(drop = True)\n\n\np, b, n = [], [], []\nfor postcode, borough, neigh in zip(df['PostalCode'], df['Borough'], df['Neighbourhood']):\n    p.append(postcode)\n    b.append(borough)\n    if neigh == 'Not assigned':\n        n.append(borough)\n    else:\n        n.append(neigh)\n\ndf = pd.DataFrame({'PostalCode': p, 'Borough': b, 'Neighbourhood':n})[columns]\nprint(df.shape)\ndf.head()",
            "execution_count": 20,
            "outputs": [
                {
                    "output_type": "stream",
                    "text": "(103, 3)\n",
                    "name": "stdout"
                },
                {
                    "output_type": "execute_result",
                    "execution_count": 20,
                    "data": {
                        "text/plain": "  PostalCode           Borough                                 Neighbourhood\n0        M3A        North York                                     Parkwoods\n1        M4A        North York                              Victoria Village\n2        M5A  Downtown Toronto                    Regent Park / Harbourfront\n3        M6A        North York             Lawrence Manor / Lawrence Heights\n4        M7A  Downtown Toronto  Queen's Park / Ontario Provincial Government",
                        "text/html": "<div>\n<style scoped>\n    .dataframe tbody tr th:only-of-type {\n        vertical-align: middle;\n    }\n\n    .dataframe tbody tr th {\n        vertical-align: top;\n    }\n\n    .dataframe thead th {\n        text-align: right;\n    }\n</style>\n<table border=\"1\" class=\"dataframe\">\n  <thead>\n    <tr style=\"text-align: right;\">\n      <th></th>\n      <th>PostalCode</th>\n      <th>Borough</th>\n      <th>Neighbourhood</th>\n    </tr>\n  </thead>\n  <tbody>\n    <tr>\n      <th>0</th>\n      <td>M3A</td>\n      <td>North York</td>\n      <td>Parkwoods</td>\n    </tr>\n    <tr>\n      <th>1</th>\n      <td>M4A</td>\n      <td>North York</td>\n      <td>Victoria Village</td>\n    </tr>\n    <tr>\n      <th>2</th>\n      <td>M5A</td>\n      <td>Downtown Toronto</td>\n      <td>Regent Park / Harbourfront</td>\n    </tr>\n    <tr>\n      <th>3</th>\n      <td>M6A</td>\n      <td>North York</td>\n      <td>Lawrence Manor / Lawrence Heights</td>\n    </tr>\n    <tr>\n      <th>4</th>\n      <td>M7A</td>\n      <td>Downtown Toronto</td>\n      <td>Queen's Park / Ontario Provincial Government</td>\n    </tr>\n  </tbody>\n</table>\n</div>"
                    },
                    "metadata": {}
                }
            ]
        },
        {
            "metadata": {},
            "cell_type": "markdown",
            "source": "## Merging of rows"
        },
        {
            "metadata": {},
            "cell_type": "code",
            "source": "postcodes = df['PostalCode'].values\nboroughs = df['Borough'].values\nneighs = df['Neighbourhood'].values\n\n#create a dictionary with keys as Postcode and Borough, keys of dictioaries are unique\ndic = dict({(key1,key2): [] for key1, key2 in zip(postcodes, boroughs)})\nprint('Number of keys in the dictionary are: ', len(dic.keys()))\n\n#filling the values of keys of dictionary\nfor postcode, borough, neigh in zip(postcodes,boroughs, neighs):\n    key = (postcode, borough)\n    dic[key].append(neigh)\n\ndf = pd.DataFrame(columns = ['Postal Code', 'Borough', 'Neighbourhood'])\nfor key, value in dic.items():\n    postcode, borough, neig = key[0], key[1], value\n    neig = ', '.join(neig)\n    df = df.append({'Postal Code': postcode,\n                     'Borough': borough,\n                     'Neighbourhood': neig}, ignore_index = True)\nprint('Shape of final data is: ', df.shape)\ndf.head(10)",
            "execution_count": 21,
            "outputs": [
                {
                    "output_type": "stream",
                    "text": "Number of keys in the dictionary are:  103\nShape of final data is:  (103, 3)\n",
                    "name": "stdout"
                },
                {
                    "output_type": "execute_result",
                    "execution_count": 21,
                    "data": {
                        "text/plain": "  Postal Code           Borough                                 Neighbourhood\n0         M3A        North York                                     Parkwoods\n1         M4A        North York                              Victoria Village\n2         M5A  Downtown Toronto                    Regent Park / Harbourfront\n3         M6A        North York             Lawrence Manor / Lawrence Heights\n4         M7A  Downtown Toronto  Queen's Park / Ontario Provincial Government\n5         M9A         Etobicoke                              Islington Avenue\n6         M1B       Scarborough                               Malvern / Rouge\n7         M3B        North York                                     Don Mills\n8         M4B         East York              Parkview Hill / Woodbine Gardens\n9         M5B  Downtown Toronto                     Garden District / Ryerson",
                        "text/html": "<div>\n<style scoped>\n    .dataframe tbody tr th:only-of-type {\n        vertical-align: middle;\n    }\n\n    .dataframe tbody tr th {\n        vertical-align: top;\n    }\n\n    .dataframe thead th {\n        text-align: right;\n    }\n</style>\n<table border=\"1\" class=\"dataframe\">\n  <thead>\n    <tr style=\"text-align: right;\">\n      <th></th>\n      <th>Postal Code</th>\n      <th>Borough</th>\n      <th>Neighbourhood</th>\n    </tr>\n  </thead>\n  <tbody>\n    <tr>\n      <th>0</th>\n      <td>M3A</td>\n      <td>North York</td>\n      <td>Parkwoods</td>\n    </tr>\n    <tr>\n      <th>1</th>\n      <td>M4A</td>\n      <td>North York</td>\n      <td>Victoria Village</td>\n    </tr>\n    <tr>\n      <th>2</th>\n      <td>M5A</td>\n      <td>Downtown Toronto</td>\n      <td>Regent Park / Harbourfront</td>\n    </tr>\n    <tr>\n      <th>3</th>\n      <td>M6A</td>\n      <td>North York</td>\n      <td>Lawrence Manor / Lawrence Heights</td>\n    </tr>\n    <tr>\n      <th>4</th>\n      <td>M7A</td>\n      <td>Downtown Toronto</td>\n      <td>Queen's Park / Ontario Provincial Government</td>\n    </tr>\n    <tr>\n      <th>5</th>\n      <td>M9A</td>\n      <td>Etobicoke</td>\n      <td>Islington Avenue</td>\n    </tr>\n    <tr>\n      <th>6</th>\n      <td>M1B</td>\n      <td>Scarborough</td>\n      <td>Malvern / Rouge</td>\n    </tr>\n    <tr>\n      <th>7</th>\n      <td>M3B</td>\n      <td>North York</td>\n      <td>Don Mills</td>\n    </tr>\n    <tr>\n      <th>8</th>\n      <td>M4B</td>\n      <td>East York</td>\n      <td>Parkview Hill / Woodbine Gardens</td>\n    </tr>\n    <tr>\n      <th>9</th>\n      <td>M5B</td>\n      <td>Downtown Toronto</td>\n      <td>Garden District / Ryerson</td>\n    </tr>\n  </tbody>\n</table>\n</div>"
                    },
                    "metadata": {}
                }
            ]
        },
        {
            "metadata": {},
            "cell_type": "markdown",
            "source": "# PART 2: Latitudes and Longitudes"
        },
        {
            "metadata": {
                "scrolled": true
            },
            "cell_type": "code",
            "source": "!wget -O Geospatial_Coordinates.csv https://cocl.us/Geospatial_data\n        \ngeo_df = pd.read_csv('Geospatial_Coordinates.csv')\n\ngeo_df.head()",
            "execution_count": 37,
            "outputs": [
                {
                    "output_type": "stream",
                    "text": "--2020-05-06 11:34:37--  https://cocl.us/Geospatial_data\nResolving cocl.us (cocl.us)... 159.8.69.21, 159.8.69.24, 159.8.72.228\nConnecting to cocl.us (cocl.us)|159.8.69.21|:443... connected.\nHTTP request sent, awaiting response... 301 Moved Permanently\nLocation: https://ibm.box.com/shared/static/9afzr83pps4pwf2smjjcf1y5mvgb18rr.csv [following]\n--2020-05-06 11:34:38--  https://ibm.box.com/shared/static/9afzr83pps4pwf2smjjcf1y5mvgb18rr.csv\nResolving ibm.box.com (ibm.box.com)... 185.235.236.197\nConnecting to ibm.box.com (ibm.box.com)|185.235.236.197|:443... connected.\nHTTP request sent, awaiting response... 301 Moved Permanently\nLocation: /public/static/9afzr83pps4pwf2smjjcf1y5mvgb18rr.csv [following]\n--2020-05-06 11:34:38--  https://ibm.box.com/public/static/9afzr83pps4pwf2smjjcf1y5mvgb18rr.csv\nReusing existing connection to ibm.box.com:443.\nHTTP request sent, awaiting response... 301 Moved Permanently\nLocation: https://ibm.ent.box.com/public/static/9afzr83pps4pwf2smjjcf1y5mvgb18rr.csv [following]\n--2020-05-06 11:34:38--  https://ibm.ent.box.com/public/static/9afzr83pps4pwf2smjjcf1y5mvgb18rr.csv\nResolving ibm.ent.box.com (ibm.ent.box.com)... 185.235.236.211\nConnecting to ibm.ent.box.com (ibm.ent.box.com)|185.235.236.211|:443... connected.\nHTTP request sent, awaiting response... 302 Found\nLocation: https://public.boxcloud.com/d/1/b1!fcfjCWbkvdf2yy8U0_zpnrdpv46_m6spRMI5Zkdoj0X9YPkwoaym7CTUO1eXDEMjlIBxmWzm4GRbkrXVQAsll1UUVy_Ms_11FFFFqyQAV1FDLHyg41f8BQR6f96uKY4kaBEscueynJBZdVqvr3bDlpYJzJiJeo-afubY4IT2_f8Wf0cli-HBZ9Zf0zbSONL0wNKCKvY-J4lyET712VjxsHt8yWNcuAroWRWPFrmgMW70zGViJIdipCOP6n-0ij34skYZPhfz4_nl8TB71vAdwnwOz_o7z7ibzsNfLroSVDwLaHa0GDKPgkl4tuo_WcDavS7r9n7krCVG6YLSLuBAqUfMCvTnVrV1kCSNKP8XSDJeV4CstPLlKbFw3EYDDHvPFJlGJUdPD-lOeguSDyrpnUSzhZSD5_T6lAxtQkHeYPEDdas_cmnPUgXMLtcHh1V68Z9i5biqzLYvdMsqo_EcpjAFvlz4ARvLYNPlq2YDb2fZrTqCS5_8nJu6MlIw5l80elIHO5ABhCUY-uNiv7DwcZKcDb9LiZz68LvbzSgWTxbey-IF7ju2r7FKjGTBs14EKzr7Ubsl1kjDB4wwgMawNyqKPvWgsLds2dj8iMvrbJI9KXdOUs9GY2U5xs_fV_RA2C5EcnKEtJh6QNnctpDnu6pXxalQ1YTORF_MwDzwF8cmj9TDH_AafVPmlv5V-5qb1VooSro_1DyO4jlzzFiMLBtNtEGpzTY6NLpoUKi8A4Ax7x9oEnIIk2flB6G7UZL672a3qE8TYAmqbzlCa0jD8aK0Fhi58gnJa3xtR2qmuP01r05WmV1ZKgW9fz3D33y7XVMPYwDiPzo_McYOB6szxKlaAifGF509GQD-UBwh3S9_6Y4wD0lXLu9DHjXHPloymqDxF9AFBPAZNXE0JceT8ls6U1r9NdvC0EURE4dxt1uzVpAh5KSUX1pSYG1dg7cdc6e4J5Z6a3lCxONWH1DrwVOqSMCyPczSUP1QwLR9bsLfA6rpkEfkB68Chi0_XTseBFQgR9_ZzAPUZtM5u0jdZtGdx_fxMTggiTdkxw1Pw02N8CAaIW3qj4Bl48aeU0yssZYoNy7d3VOsz_lBIs6v9SoQm8F4l6zhd4IHHTxIOFI9VmLpoIWnJ_MSlwrEI7wRms2KByPd4w6b0W-IDtfs7irVp_OIuPM6lSZKqeAQqYqb5h_cLztO2QPfxljYjGEO7TZzMEVXb4n52Cli-8ClUpAPSqlBffV7ZbYENzVP_WS5CPs4HJSGCv4kvKTewfIDjj60KPFyRhO7ig3Mj10hSvUI-hgSDSWbAGCWbGsbpD_Qx79fBLvm-axcHHD8CnOM651BweoyrsrCOYCYsHbfwGkLYwU44iAg8xY2Ouc-UW0OWHnj8sU5-Vi2-OJQPTiiX7CgcoMxlLZFjFhVZOZ-GRkDYgQEuDgCY94cAAUpCn9meA../download [following]\n--2020-05-06 11:34:39--  https://public.boxcloud.com/d/1/b1!fcfjCWbkvdf2yy8U0_zpnrdpv46_m6spRMI5Zkdoj0X9YPkwoaym7CTUO1eXDEMjlIBxmWzm4GRbkrXVQAsll1UUVy_Ms_11FFFFqyQAV1FDLHyg41f8BQR6f96uKY4kaBEscueynJBZdVqvr3bDlpYJzJiJeo-afubY4IT2_f8Wf0cli-HBZ9Zf0zbSONL0wNKCKvY-J4lyET712VjxsHt8yWNcuAroWRWPFrmgMW70zGViJIdipCOP6n-0ij34skYZPhfz4_nl8TB71vAdwnwOz_o7z7ibzsNfLroSVDwLaHa0GDKPgkl4tuo_WcDavS7r9n7krCVG6YLSLuBAqUfMCvTnVrV1kCSNKP8XSDJeV4CstPLlKbFw3EYDDHvPFJlGJUdPD-lOeguSDyrpnUSzhZSD5_T6lAxtQkHeYPEDdas_cmnPUgXMLtcHh1V68Z9i5biqzLYvdMsqo_EcpjAFvlz4ARvLYNPlq2YDb2fZrTqCS5_8nJu6MlIw5l80elIHO5ABhCUY-uNiv7DwcZKcDb9LiZz68LvbzSgWTxbey-IF7ju2r7FKjGTBs14EKzr7Ubsl1kjDB4wwgMawNyqKPvWgsLds2dj8iMvrbJI9KXdOUs9GY2U5xs_fV_RA2C5EcnKEtJh6QNnctpDnu6pXxalQ1YTORF_MwDzwF8cmj9TDH_AafVPmlv5V-5qb1VooSro_1DyO4jlzzFiMLBtNtEGpzTY6NLpoUKi8A4Ax7x9oEnIIk2flB6G7UZL672a3qE8TYAmqbzlCa0jD8aK0Fhi58gnJa3xtR2qmuP01r05WmV1ZKgW9fz3D33y7XVMPYwDiPzo_McYOB6szxKlaAifGF509GQD-UBwh3S9_6Y4wD0lXLu9DHjXHPloymqDxF9AFBPAZNXE0JceT8ls6U1r9NdvC0EURE4dxt1uzVpAh5KSUX1pSYG1dg7cdc6e4J5Z6a3lCxONWH1DrwVOqSMCyPczSUP1QwLR9bsLfA6rpkEfkB68Chi0_XTseBFQgR9_ZzAPUZtM5u0jdZtGdx_fxMTggiTdkxw1Pw02N8CAaIW3qj4Bl48aeU0yssZYoNy7d3VOsz_lBIs6v9SoQm8F4l6zhd4IHHTxIOFI9VmLpoIWnJ_MSlwrEI7wRms2KByPd4w6b0W-IDtfs7irVp_OIuPM6lSZKqeAQqYqb5h_cLztO2QPfxljYjGEO7TZzMEVXb4n52Cli-8ClUpAPSqlBffV7ZbYENzVP_WS5CPs4HJSGCv4kvKTewfIDjj60KPFyRhO7ig3Mj10hSvUI-hgSDSWbAGCWbGsbpD_Qx79fBLvm-axcHHD8CnOM651BweoyrsrCOYCYsHbfwGkLYwU44iAg8xY2Ouc-UW0OWHnj8sU5-Vi2-OJQPTiiX7CgcoMxlLZFjFhVZOZ-GRkDYgQEuDgCY94cAAUpCn9meA../download\nResolving public.boxcloud.com (public.boxcloud.com)... 185.235.236.200\nConnecting to public.boxcloud.com (public.boxcloud.com)|185.235.236.200|:443... connected.\nHTTP request sent, awaiting response... 200 OK\nLength: 2891 (2.8K) [text/csv]\nSaving to: \u2018Geospatial_Coordinates.csv\u2019\n\n100%[======================================>] 2,891       --.-K/s   in 0s      \n\n2020-05-06 11:34:39 (111 MB/s) - \u2018Geospatial_Coordinates.csv\u2019 saved [2891/2891]\n\n",
                    "name": "stdout"
                },
                {
                    "output_type": "execute_result",
                    "execution_count": 37,
                    "data": {
                        "text/plain": "  Postal Code   Latitude  Longitude\n0         M1B  43.806686 -79.194353\n1         M1C  43.784535 -79.160497\n2         M1E  43.763573 -79.188711\n3         M1G  43.770992 -79.216917\n4         M1H  43.773136 -79.239476",
                        "text/html": "<div>\n<style scoped>\n    .dataframe tbody tr th:only-of-type {\n        vertical-align: middle;\n    }\n\n    .dataframe tbody tr th {\n        vertical-align: top;\n    }\n\n    .dataframe thead th {\n        text-align: right;\n    }\n</style>\n<table border=\"1\" class=\"dataframe\">\n  <thead>\n    <tr style=\"text-align: right;\">\n      <th></th>\n      <th>Postal Code</th>\n      <th>Latitude</th>\n      <th>Longitude</th>\n    </tr>\n  </thead>\n  <tbody>\n    <tr>\n      <th>0</th>\n      <td>M1B</td>\n      <td>43.806686</td>\n      <td>-79.194353</td>\n    </tr>\n    <tr>\n      <th>1</th>\n      <td>M1C</td>\n      <td>43.784535</td>\n      <td>-79.160497</td>\n    </tr>\n    <tr>\n      <th>2</th>\n      <td>M1E</td>\n      <td>43.763573</td>\n      <td>-79.188711</td>\n    </tr>\n    <tr>\n      <th>3</th>\n      <td>M1G</td>\n      <td>43.770992</td>\n      <td>-79.216917</td>\n    </tr>\n    <tr>\n      <th>4</th>\n      <td>M1H</td>\n      <td>43.773136</td>\n      <td>-79.239476</td>\n    </tr>\n  </tbody>\n</table>\n</div>"
                    },
                    "metadata": {}
                }
            ]
        },
        {
            "metadata": {},
            "cell_type": "code",
            "source": "df = pd.merge(df, geo_df, how= 'inner', on = 'Postal Code')",
            "execution_count": 39,
            "outputs": []
        },
        {
            "metadata": {},
            "cell_type": "code",
            "source": "df.head(10)",
            "execution_count": 45,
            "outputs": [
                {
                    "output_type": "execute_result",
                    "execution_count": 45,
                    "data": {
                        "text/plain": "  Postal Code           Borough                                 Neighbourhood  \\\n0         M3A        North York                                     Parkwoods   \n1         M4A        North York                              Victoria Village   \n2         M5A  Downtown Toronto                    Regent Park / Harbourfront   \n3         M6A        North York             Lawrence Manor / Lawrence Heights   \n4         M7A  Downtown Toronto  Queen's Park / Ontario Provincial Government   \n5         M9A         Etobicoke                              Islington Avenue   \n6         M1B       Scarborough                               Malvern / Rouge   \n7         M3B        North York                                     Don Mills   \n8         M4B         East York              Parkview Hill / Woodbine Gardens   \n9         M5B  Downtown Toronto                     Garden District / Ryerson   \n\n    Latitude  Longitude  \n0  43.753259 -79.329656  \n1  43.725882 -79.315572  \n2  43.654260 -79.360636  \n3  43.718518 -79.464763  \n4  43.662301 -79.389494  \n5  43.667856 -79.532242  \n6  43.806686 -79.194353  \n7  43.745906 -79.352188  \n8  43.706397 -79.309937  \n9  43.657162 -79.378937  ",
                        "text/html": "<div>\n<style scoped>\n    .dataframe tbody tr th:only-of-type {\n        vertical-align: middle;\n    }\n\n    .dataframe tbody tr th {\n        vertical-align: top;\n    }\n\n    .dataframe thead th {\n        text-align: right;\n    }\n</style>\n<table border=\"1\" class=\"dataframe\">\n  <thead>\n    <tr style=\"text-align: right;\">\n      <th></th>\n      <th>Postal Code</th>\n      <th>Borough</th>\n      <th>Neighbourhood</th>\n      <th>Latitude</th>\n      <th>Longitude</th>\n    </tr>\n  </thead>\n  <tbody>\n    <tr>\n      <th>0</th>\n      <td>M3A</td>\n      <td>North York</td>\n      <td>Parkwoods</td>\n      <td>43.753259</td>\n      <td>-79.329656</td>\n    </tr>\n    <tr>\n      <th>1</th>\n      <td>M4A</td>\n      <td>North York</td>\n      <td>Victoria Village</td>\n      <td>43.725882</td>\n      <td>-79.315572</td>\n    </tr>\n    <tr>\n      <th>2</th>\n      <td>M5A</td>\n      <td>Downtown Toronto</td>\n      <td>Regent Park / Harbourfront</td>\n      <td>43.654260</td>\n      <td>-79.360636</td>\n    </tr>\n    <tr>\n      <th>3</th>\n      <td>M6A</td>\n      <td>North York</td>\n      <td>Lawrence Manor / Lawrence Heights</td>\n      <td>43.718518</td>\n      <td>-79.464763</td>\n    </tr>\n    <tr>\n      <th>4</th>\n      <td>M7A</td>\n      <td>Downtown Toronto</td>\n      <td>Queen's Park / Ontario Provincial Government</td>\n      <td>43.662301</td>\n      <td>-79.389494</td>\n    </tr>\n    <tr>\n      <th>5</th>\n      <td>M9A</td>\n      <td>Etobicoke</td>\n      <td>Islington Avenue</td>\n      <td>43.667856</td>\n      <td>-79.532242</td>\n    </tr>\n    <tr>\n      <th>6</th>\n      <td>M1B</td>\n      <td>Scarborough</td>\n      <td>Malvern / Rouge</td>\n      <td>43.806686</td>\n      <td>-79.194353</td>\n    </tr>\n    <tr>\n      <th>7</th>\n      <td>M3B</td>\n      <td>North York</td>\n      <td>Don Mills</td>\n      <td>43.745906</td>\n      <td>-79.352188</td>\n    </tr>\n    <tr>\n      <th>8</th>\n      <td>M4B</td>\n      <td>East York</td>\n      <td>Parkview Hill / Woodbine Gardens</td>\n      <td>43.706397</td>\n      <td>-79.309937</td>\n    </tr>\n    <tr>\n      <th>9</th>\n      <td>M5B</td>\n      <td>Downtown Toronto</td>\n      <td>Garden District / Ryerson</td>\n      <td>43.657162</td>\n      <td>-79.378937</td>\n    </tr>\n  </tbody>\n</table>\n</div>"
                    },
                    "metadata": {}
                }
            ]
        },
        {
            "metadata": {},
            "cell_type": "code",
            "source": "",
            "execution_count": null,
            "outputs": []
        }
    ],
    "metadata": {
        "kernelspec": {
            "name": "python3",
            "display_name": "Python 3.6",
            "language": "python"
        },
        "language_info": {
            "name": "python",
            "version": "3.6.9",
            "mimetype": "text/x-python",
            "codemirror_mode": {
                "name": "ipython",
                "version": 3
            },
            "pygments_lexer": "ipython3",
            "nbconvert_exporter": "python",
            "file_extension": ".py"
        }
    },
    "nbformat": 4,
    "nbformat_minor": 1
}